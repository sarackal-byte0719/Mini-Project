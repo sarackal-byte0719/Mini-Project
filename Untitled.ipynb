{
 "cells": [
  {
   "cell_type": "code",
   "execution_count": 3,
   "metadata": {},
   "outputs": [],
   "source": [
    "import pandas as pd\n",
    "from pandas import Series,DataFrame\n",
    "import numpy as np\n",
    "import matplotlib.pyplot as plt\n",
    "from sklearn.linear_model import LinearRegression\n",
    "import seaborn as sns\n",
    "from scipy import stats\n",
    "import statistics as st\n",
    "import warnings\n",
    "import nbconvert\n",
    "\n",
    "# set the graphs to show in the jupyter notebook\n",
    "%matplotlib inline\n"
   ]
  },
  {
   "cell_type": "markdown",
   "metadata": {},
   "source": [
    "# <font color= 'teal'>Kaggle Heart Disease Project</font>\n",
    "# <font color= 'teal'>December 2019</font>"
   ]
  },
  {
   "cell_type": "markdown",
   "metadata": {},
   "source": [
    "\n",
    "- A. <font color= 'blue'>age :</font>\t in years\n",
    "- B. <font color= 'blue'>sex :</font>\t(1 = male; 0 = female)\n",
    "- C. <font color= 'blue'>cp :</font>\tchest pain type experienced defined as (0-4) \n",
    "        - (Value 1: typical angina, Value 2: atypical angina, Value 3: non-anginal pain, Value 4: asymptomatic)\n",
    "- D. <font color= 'blue'>trestbps:</font> resting blood pressure (in mm Hg on admission to the hospital)\n",
    "- E. <font color= 'blue'>chol :</font>\t serum cholestoral measurement in mg/dL\n",
    "- F. <font color= 'blue'>fbs :</font>\t (fasting blood sugar > 120 mg/dl) (1 = true; 0 = false)\n",
    "- G. <font color= 'blue'>restecg :</font>\t resting electrocardiographic measurement defined as \n",
    "        - (0 = normal, 1 = having ST-T wave abnormality, 2 = showing probable or definite left ventricular hypertrophy by Estes' criteria)\n",
    "- H. <font color= 'blue'>thalach :</font>\t maximum heart rate achieved\n",
    "- I. <font color= 'blue'>exang :</font>\t exercise induced angina (1 = yes; 0 = no) \n",
    "- J. <font color= 'blue'>oldpeak :</font>\t ST depression induced by exercise relative to rest. 'ST' relates to isoelectric period when the ventricles are in between depolarization and repolarization on the ECG plot. ST depression can be associated with myocardial infarction. \n",
    "- K. <font color= 'blue'>slope :</font>\t the slope of the peak exercise ST segment defined as\n",
    "        - (Value 1: upsloping, Value 2: flat, Value 3: downsloping)\n",
    "- L. <font color= 'blue'>ca :</font>\tnumber of major vessels (0-3) colored by flouroscopy\n",
    "- M. <font color= 'blue'>tha :</font>\t A blood disorder called thalassemia defined as\n",
    "        - 3 = normal; 6 = fixed defect; 7 = reversable defect\n",
    "- N. <font color= 'blue'>target : </font>\tpresence of heart disease (1 = presence of heart disease or 0 = presence of heart disease)"
   ]
  },
  {
   "cell_type": "markdown",
   "metadata": {},
   "source": [
    "- <a href='#1'>1. Libraries and Data</a>  "
   ]
  },
  {
   "cell_type": "markdown",
   "metadata": {},
   "source": [
    "- A. <a href='age :'> age :</a>\t in years"
   ]
  },
  {
   "cell_type": "markdown",
   "metadata": {},
   "source": [
    "# <b><font color= 'blue'> Kaggle Heart Disease Project \n",
    "# ** Kaggle Heart Disease Project\n",
    "## December 2019"
   ]
  },
  {
   "cell_type": "markdown",
   "metadata": {},
   "source": [
    "- A. gender :\t in years"
   ]
  },
  {
   "cell_type": "markdown",
   "metadata": {},
   "source": [
    "# <b>Kaggle Heart Disease Project </b>"
   ]
  },
  {
   "cell_type": "code",
   "execution_count": null,
   "metadata": {},
   "outputs": [],
   "source": []
  }
 ],
 "metadata": {
  "kernelspec": {
   "display_name": "Python 3",
   "language": "python",
   "name": "python3"
  },
  "language_info": {
   "codemirror_mode": {
    "name": "ipython",
    "version": 3
   },
   "file_extension": ".py",
   "mimetype": "text/x-python",
   "name": "python",
   "nbconvert_exporter": "python",
   "pygments_lexer": "ipython3",
   "version": "3.7.3"
  }
 },
 "nbformat": 4,
 "nbformat_minor": 4
}
